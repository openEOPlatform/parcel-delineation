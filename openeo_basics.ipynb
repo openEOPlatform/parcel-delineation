{
 "cells": [
  {
   "cell_type": "markdown",
   "id": "80281fc8",
   "metadata": {},
   "source": [
    "## OpenEO Basics"
   ]
  },
  {
   "cell_type": "markdown",
   "id": "59845559",
   "metadata": {},
   "source": [
    "Installation, importation and making a connection to a backend"
   ]
  },
  {
   "cell_type": "code",
   "execution_count": null,
   "id": "1b092aaf",
   "metadata": {},
   "outputs": [],
   "source": [
    "!pip install openeo"
   ]
  },
  {
   "cell_type": "code",
   "execution_count": 2,
   "id": "4cafdcf2",
   "metadata": {},
   "outputs": [
    {
     "name": "stdout",
     "output_type": "stream",
     "text": [
      "0.9.1\n"
     ]
    }
   ],
   "source": [
    "import openeo\n",
    "\n",
    "print(openeo.client_version())"
   ]
  },
  {
   "cell_type": "code",
   "execution_count": 3,
   "id": "a3221872",
   "metadata": {},
   "outputs": [
    {
     "name": "stdout",
     "output_type": "stream",
     "text": [
      "To authenticate: visit https://aai.egi.eu/oidc/device and enter the user code 'JZK4L2'.\n",
      "Authorized successfully.\n",
      "Authenticated using device code flow.\n"
     ]
    }
   ],
   "source": [
    "connection = openeo.connect(\"https://openeo.cloud\").authenticate_oidc()"
   ]
  },
  {
   "cell_type": "markdown",
   "id": "aed3ac5d",
   "metadata": {},
   "source": [
    "Loading a collection"
   ]
  },
  {
   "cell_type": "code",
   "execution_count": 5,
   "id": "dcb33972",
   "metadata": {},
   "outputs": [],
   "source": [
    "s2_cube = connection.load_collection(\n",
    "    \"TERRASCOPE_S2_TOC_V2\",\n",
    "    spatial_extent={\"west\":5.1,\"east\":5.2,\"south\":51.1,\"north\":51.2},\n",
    "    temporal_extent=[\"2020-01-01\",\"2020-12-31\"],\n",
    "    bands=[\"B02\",\"B04\",\"B08\"]\n",
    ")"
   ]
  },
  {
   "cell_type": "markdown",
   "id": "25147c3a",
   "metadata": {},
   "source": [
    "Downloading results: synchronous job"
   ]
  },
  {
   "cell_type": "code",
   "execution_count": 8,
   "id": "1e99b02b",
   "metadata": {},
   "outputs": [],
   "source": [
    "s2_cube.max_time().download(\"results/basics/s2_cube_syn.tif\",format=\"Gtiff\")\n",
    "\n",
    "## Note: we used max_time() so that you only need to download 1 time interval just to speed up the download process\n",
    "## for this particular demo. To see what the method does and to see more methods of a DataCube, you can check out:\n",
    "## https://open-eo.github.io/openeo-python-client/api.html#openeo.rest.datacube.DataCube.max_time"
   ]
  },
  {
   "cell_type": "markdown",
   "id": "5aac665c",
   "metadata": {},
   "source": [
    "Downloading results: batch job"
   ]
  },
  {
   "cell_type": "code",
   "execution_count": 12,
   "id": "ad0c78dc",
   "metadata": {},
   "outputs": [
    {
     "name": "stdout",
     "output_type": "stream",
     "text": [
      "0:00:00 Job 'vito-305a8796-63c6-40e1-add2-8a8f82f51c43': send 'start'\n",
      "0:00:55 Job 'vito-305a8796-63c6-40e1-add2-8a8f82f51c43': queued (progress N/A)\n",
      "0:01:03 Job 'vito-305a8796-63c6-40e1-add2-8a8f82f51c43': queued (progress N/A)\n",
      "0:01:10 Job 'vito-305a8796-63c6-40e1-add2-8a8f82f51c43': queued (progress N/A)\n",
      "0:01:19 Job 'vito-305a8796-63c6-40e1-add2-8a8f82f51c43': queued (progress N/A)\n",
      "0:01:30 Job 'vito-305a8796-63c6-40e1-add2-8a8f82f51c43': queued (progress N/A)\n",
      "0:01:44 Job 'vito-305a8796-63c6-40e1-add2-8a8f82f51c43': queued (progress N/A)\n",
      "0:02:01 Job 'vito-305a8796-63c6-40e1-add2-8a8f82f51c43': running (progress N/A)\n",
      "0:02:23 Job 'vito-305a8796-63c6-40e1-add2-8a8f82f51c43': running (progress N/A)\n",
      "0:02:48 Job 'vito-305a8796-63c6-40e1-add2-8a8f82f51c43': running (progress N/A)\n",
      "0:03:20 Job 'vito-305a8796-63c6-40e1-add2-8a8f82f51c43': running (progress N/A)\n",
      "0:03:59 Job 'vito-305a8796-63c6-40e1-add2-8a8f82f51c43': finished (progress N/A)\n"
     ]
    },
    {
     "data": {
      "text/plain": [
       "WindowsPath('results/basics/s2_cube_batch.tif')"
      ]
     },
     "execution_count": 12,
     "metadata": {},
     "output_type": "execute_result"
    }
   ],
   "source": [
    "job = s2_cube.max_time().execute_batch(format=\"Gtiff\")\n",
    "job.get_results().download_file(\"results/basics/s2_cube_batch.tif\")"
   ]
  },
  {
   "cell_type": "markdown",
   "id": "6c103997",
   "metadata": {},
   "source": [
    "Filtering spatially, temporally and on bands"
   ]
  },
  {
   "cell_type": "code",
   "execution_count": 23,
   "id": "0480abad",
   "metadata": {},
   "outputs": [
    {
     "name": "stdout",
     "output_type": "stream",
     "text": [
      "vito-d4f4b476-614e-47d5-b8a7-6544fca3835f\n",
      "queued\n"
     ]
    }
   ],
   "source": [
    "b2_filtered_cropped = s2_cube.filter_temporal([\"2020-02-01\",\"2020-02-28\"]).band(\"B02\").filter_bbox(west=5.15,east=5.16,south=51.14,north=51.16, crs=4326)\n",
    "# job = b2_filtered_cropped.execute_batch(format=\"netCDF\")\n",
    "job = b2_filtered_cropped.send_job(out_format=\"netCDF\")\n",
    "job.start_job()\n",
    "print(job.job_id)\n",
    "print(job.status())\n",
    "# job.get_results().download_file(\"results/basics/s2_filtered_cropped.nc\")\n",
    "# b2_filtered_cropped.download(\"results/basics/b2_filtered_cropped.nc\", format=\"netCDF\")"
   ]
  },
  {
   "cell_type": "code",
   "execution_count": 24,
   "id": "f5fbd7f0",
   "metadata": {},
   "outputs": [
    {
     "name": "stdout",
     "output_type": "stream",
     "text": [
      "running\n"
     ]
    }
   ],
   "source": [
    "print(job.status())"
   ]
  },
  {
   "cell_type": "markdown",
   "id": "d126090c",
   "metadata": {},
   "source": [
    "Band math"
   ]
  },
  {
   "cell_type": "code",
   "execution_count": 26,
   "id": "c837b822",
   "metadata": {},
   "outputs": [],
   "source": [
    "B02 = s2_cube.band(\"B02\")\n",
    "B04 = s2_cube.band(\"B04\")\n",
    "B08 = s2_cube.band(\"B08\")\n",
    "ndvi_cube = (B08 - B04) / (B08 + B04)\n",
    "ndvi_cube.max_time().download(\"results/basics/ndvi.tif\",format=\"GTiff\")"
   ]
  },
  {
   "cell_type": "markdown",
   "id": "573618dc",
   "metadata": {},
   "source": [
    "Applying mathematical operations"
   ]
  },
  {
   "cell_type": "code",
   "execution_count": null,
   "id": "c5b2352f",
   "metadata": {},
   "outputs": [],
   "source": [
    "s2_absolute = s2_cube.apply(\"absolute\")\n",
    "s2_lambda = s2_cube.apply(lambda x: x.absolute().cos())"
   ]
  },
  {
   "cell_type": "code",
   "execution_count": 45,
   "id": "3512b32f",
   "metadata": {},
   "outputs": [],
   "source": [
    "s2_red = s2_cube.reduce_dimension(dimension=\"t\",reducer=\"max\")"
   ]
  },
  {
   "cell_type": "code",
   "execution_count": 31,
   "id": "5333c27f",
   "metadata": {},
   "outputs": [],
   "source": [
    "from openeo.processes import array_element\n",
    "def callback(data):\n",
    "    band1 = array_element(data, index=0)\n",
    "    band2 = array_element(data, index=1)\n",
    "    return band1 + 1.2 * band2\n",
    "\n",
    "s2_cube.reduce_dimension(dimension=\"bands\",reducer=callback)"
   ]
  },
  {
   "cell_type": "code",
   "execution_count": null,
   "id": "0c74f695",
   "metadata": {},
   "outputs": [],
   "source": [
    "def callback2(data):\n",
    "    return data.mean()\n",
    "\n",
    "s2_cube.reduce_dimension(dimension=\"t\",reducer=callback2)"
   ]
  },
  {
   "cell_type": "markdown",
   "id": "87e54ec7",
   "metadata": {},
   "source": [
    "Sampling features"
   ]
  },
  {
   "cell_type": "code",
   "execution_count": null,
   "id": "ed2e1dbb",
   "metadata": {},
   "outputs": [],
   "source": [
    "with open(\"resources/soy_2019.geojson\") as fn:\n",
    "    pol = fn.readlines()[0]\n",
    "\n",
    "sampled_features = ndvi_cube.filter_spatial(json.loads(pol))\n",
    "job = sampled_features.send_job(\n",
    "    title=\"Extract points from SHub\",\n",
    "    out_format=\"netCDF\",\n",
    "    sample_by_feature=True)\n",
    "job.start_job()"
   ]
  },
  {
   "cell_type": "code",
   "execution_count": 52,
   "id": "c393a54e",
   "metadata": {},
   "outputs": [
    {
     "data": {
      "text/plain": [
       "'finished'"
      ]
     },
     "execution_count": 52,
     "metadata": {},
     "output_type": "execute_result"
    }
   ],
   "source": [
    "job.status()"
   ]
  }
 ],
 "metadata": {
  "kernelspec": {
   "display_name": "Python 3",
   "language": "python",
   "name": "python3"
  },
  "language_info": {
   "codemirror_mode": {
    "name": "ipython",
    "version": 3
   },
   "file_extension": ".py",
   "mimetype": "text/x-python",
   "name": "python",
   "nbconvert_exporter": "python",
   "pygments_lexer": "ipython3",
   "version": "3.9.4"
  }
 },
 "nbformat": 4,
 "nbformat_minor": 5
}
